{
 "cells": [
  {
   "cell_type": "code",
   "execution_count": null,
   "id": "6fbba600",
   "metadata": {},
   "outputs": [],
   "source": [
    "import pandas as pd\n",
    "import numpy as np\n",
    "import matplotlib.pyplot as plt\n",
    "import seaborn as sns\n",
    "import plotly.express as px\n",
    "import missingno as msno"
   ]
  },
  {
   "cell_type": "code",
   "execution_count": null,
   "id": "7f95fb07",
   "metadata": {},
   "outputs": [],
   "source": [
    "df = pd.read_csv('water_potability.csv')\n",
    "df.head()"
   ]
  },
  {
   "cell_type": "code",
   "execution_count": null,
   "id": "7b195ab2",
   "metadata": {},
   "outputs": [],
   "source": [
    "df.describe()"
   ]
  },
  {
   "cell_type": "code",
   "execution_count": null,
   "id": "93fd339e",
   "metadata": {},
   "outputs": [],
   "source": [
    "df.info()"
   ]
  },
  {
   "cell_type": "code",
   "execution_count": null,
   "id": "6782c9d6",
   "metadata": {},
   "outputs": [],
   "source": [
    "#Dependent Variable Analysis"
   ]
  },
  {
   "cell_type": "code",
   "execution_count": null,
   "id": "bd5dffae",
   "metadata": {},
   "outputs": [],
   "source": [
    "d = pd.DataFrame(df[\"Potability\"].value_counts())\n",
    "fig = px.pie(d, values = \"Potability\", names = [\"Not Potable\", \"Potable\"], hole = 0.4, opacity = 0.8,\n",
    "                                               labels = {\"label\":\"Potability\", \"Potability\":\"Number of Samples\"})\n",
    "fig.update_layout(title = dict(text = \"Pie Chart of Potability Feature\"))\n",
    "fig.update_traces(textposition = \"outside\", textinfo = \"percent + label\")\n",
    "fig.show()"
   ]
  },
  {
   "cell_type": "code",
   "execution_count": null,
   "id": "854b1e43",
   "metadata": {},
   "outputs": [],
   "source": []
  },
  {
   "cell_type": "code",
   "execution_count": null,
   "id": "4514f4bb",
   "metadata": {},
   "outputs": [],
   "source": [
    "#Correlation Between Feature"
   ]
  },
  {
   "cell_type": "code",
   "execution_count": null,
   "id": "1e1326e8",
   "metadata": {},
   "outputs": [],
   "source": [
    "df.corr()"
   ]
  },
  {
   "cell_type": "code",
   "execution_count": null,
   "id": "c8b6fd68",
   "metadata": {},
   "outputs": [],
   "source": [
    "sns.clustermap(df.corr(), cmap = \"vlag\", dendrogram_ratio = (0.1, 0.2), annot = True, linewidth = 0.8, figsize = (9,10))\n",
    "plt.show()"
   ]
  },
  {
   "cell_type": "code",
   "execution_count": null,
   "id": "e9881e67",
   "metadata": {},
   "outputs": [],
   "source": [
    "#Distribution of Feature"
   ]
  },
  {
   "cell_type": "code",
   "execution_count": null,
   "id": "b9871434",
   "metadata": {},
   "outputs": [],
   "source": [
    "non_potable = df.query(\"Potability == 0\")\n",
    "potable = df.query(\"Potability == 1\")\n",
    "\n",
    "plt.figure(figsize = (15,15))\n",
    "for ax, col in  enumerate(df.columns[:9]):\n",
    "    plt.subplot(3,3, ax+1)\n",
    "    plt.title(col)\n",
    "    sns.kdeplot(x = non_potable[col], label = \"Non Potable\")\n",
    "    sns.kdeplot(x = potable[col], label = \"Potable\")\n",
    "    plt.legend()\n",
    "plt.tight_layout()"
   ]
  },
  {
   "cell_type": "code",
   "execution_count": null,
   "id": "bf2367d0",
   "metadata": {},
   "outputs": [],
   "source": [
    "#Preprocessing: Missing Value problem"
   ]
  },
  {
   "cell_type": "code",
   "execution_count": null,
   "id": "d3a28433",
   "metadata": {},
   "outputs": [],
   "source": [
    "msno.matrix(df)\n",
    "plt.show()"
   ]
  },
  {
   "cell_type": "code",
   "execution_count": null,
   "id": "530134c1",
   "metadata": {},
   "outputs": [],
   "source": [
    "df.isnull().sum()"
   ]
  },
  {
   "cell_type": "code",
   "execution_count": null,
   "id": "5425d57a",
   "metadata": {},
   "outputs": [],
   "source": [
    "# handle missing value with average of features\n",
    "df[\"ph\"].fillna(value = df[\"ph\"].mean(), inplace = True)\n",
    "df[\"Sulfate\"].fillna(value = df[\"Sulfate\"].mean(), inplace = True)\n",
    "df[\"Trihalomethanes\"].fillna(value = df[\"Trihalomethanes\"].mean(), inplace = True)"
   ]
  },
  {
   "cell_type": "code",
   "execution_count": null,
   "id": "9ad331c5",
   "metadata": {},
   "outputs": [],
   "source": [
    "df.isnull().sum()"
   ]
  },
  {
   "cell_type": "code",
   "execution_count": null,
   "id": "b9c82090",
   "metadata": {},
   "outputs": [],
   "source": [
    "#Preprocessing: Train-Test_Split and Normalization"
   ]
  },
  {
   "cell_type": "code",
   "execution_count": null,
   "id": "25a505fe",
   "metadata": {},
   "outputs": [],
   "source": [
    "from sklearn.tree import DecisionTreeClassifier\n",
    "from sklearn.ensemble import RandomForestClassifier, GradientBoostingRegressor\n",
    "from sklearn.model_selection import RandomizedSearchCV, RepeatedStratifiedKFold, train_test_split\n",
    "from sklearn.metrics import precision_score, confusion_matrix\n",
    "from sklearn import tree\n",
    "from sklearn.linear_model import LinearRegression\n",
    "from sklearn.svm import SVR\n",
    "from sklearn.neighbors import KNeighborsRegressor\n",
    "\n",
    "from xgboost import XGBClassifier"
   ]
  },
  {
   "cell_type": "code",
   "execution_count": null,
   "id": "edc78992",
   "metadata": {},
   "outputs": [],
   "source": [
    "X = df.drop(\"Potability\", axis = 1).values\n",
    "y = df[\"Potability\"].values"
   ]
  },
  {
   "cell_type": "code",
   "execution_count": null,
   "id": "4b91c282",
   "metadata": {},
   "outputs": [],
   "source": [
    "# train test split\n",
    "X_train, X_test, y_train, y_test = train_test_split(X, y, test_size = 0.3, random_state = 3)\n",
    "print(\"X_train\",X_train.shape)\n",
    "print(\"X_test\",X_test.shape)\n",
    "print(\"y_train\",y_train.shape)\n",
    "print(\"y_test\",y_test.shape)"
   ]
  },
  {
   "cell_type": "code",
   "execution_count": null,
   "id": "18a90730",
   "metadata": {},
   "outputs": [],
   "source": [
    "# min-max normalization\n",
    "x_train_max = np.max(X_train)\n",
    "x_train_min = np.min(X_train)\n",
    "X_train = (X_train - x_train_min)/(x_train_max-x_train_min)\n",
    "X_test = (X_test - x_train_min)/(x_train_max-x_train_min)"
   ]
  },
  {
   "cell_type": "code",
   "execution_count": null,
   "id": "44fbed9d",
   "metadata": {},
   "outputs": [],
   "source": [
    "#Modelling Decision Tree and Random Forest Classifiers"
   ]
  },
  {
   "cell_type": "code",
   "execution_count": null,
   "id": "38f05346",
   "metadata": {},
   "outputs": [],
   "source": [
    "models = [(\"DTC\", DecisionTreeClassifier(max_depth = 3)),\n",
    "          (\"RF\",RandomForestClassifier()),\n",
    "         ]"
   ]
  },
  {
   "cell_type": "code",
   "execution_count": null,
   "id": "eb54fc76",
   "metadata": {},
   "outputs": [],
   "source": [
    "finalResults = []\n",
    "cmList = []\n",
    "for name, model in models:\n",
    "    model.fit(X_train, y_train) # train\n",
    "    model_result = model.predict(X_test) # prediction\n",
    "    score = precision_score(y_test, model_result)\n",
    "    cm = confusion_matrix(y_test, model_result)\n",
    "    \n",
    "    finalResults.append((name, score))\n",
    "    cmList.append((name, cm))\n",
    "finalResults"
   ]
  },
  {
   "cell_type": "code",
   "execution_count": null,
   "id": "ba149ffd",
   "metadata": {},
   "outputs": [],
   "source": [
    "for name, i in cmList:\n",
    "    plt.figure()\n",
    "    sns.heatmap(i, annot = True, linewidths = 0.8, fmt = \".1f\")\n",
    "    plt.title(name)\n",
    "    plt.show()"
   ]
  },
  {
   "cell_type": "code",
   "execution_count": null,
   "id": "a11f1e1d",
   "metadata": {},
   "outputs": [],
   "source": [
    "#Visualize Decision Tree"
   ]
  },
  {
   "cell_type": "code",
   "execution_count": null,
   "id": "36238429",
   "metadata": {},
   "outputs": [],
   "source": [
    "dt_clf = models[0][1]\n",
    "dt_clf"
   ]
  },
  {
   "cell_type": "code",
   "execution_count": null,
   "id": "143c8df3",
   "metadata": {},
   "outputs": [],
   "source": [
    "plt.figure(figsize=(25,20))\n",
    "tree.plot_tree(dt_clf,\n",
    "              feature_names = df.columns.tolist()[:-1],\n",
    "              class_names = [\"0\",\"1\"],\n",
    "              filled = True,\n",
    "              precision = 5)\n",
    "plt.show()"
   ]
  },
  {
   "cell_type": "code",
   "execution_count": null,
   "id": "d45e21d9",
   "metadata": {},
   "outputs": [],
   "source": [
    "#Random Forest, XGBoost, GBM Hyperparameter Tuning"
   ]
  },
  {
   "cell_type": "code",
   "execution_count": null,
   "id": "e045110f",
   "metadata": {},
   "outputs": [],
   "source": [
    "model_params = {\n",
    "    \"Random Forest\":\n",
    "    {\n",
    "        \"model\":RandomForestClassifier(),\n",
    "        \"params\":\n",
    "        {\n",
    "            \"n_estimators\":[10, 50, 100],\n",
    "            \"max_features\":[\"auto\",\"sqrt\",\"log2\"],\n",
    "            \"max_depth\":list(range(1,21,3))\n",
    "        }\n",
    "    },\n",
    "    \"XGBoost\":\n",
    "    {\n",
    "        \"model\":XGBClassifier(),\n",
    "        \"params\":\n",
    "        {\n",
    "            \"colsample_bytree\":[0.6, 0.8, 1],\n",
    "            \"learning_rate\":[0.1, 0.2, 0.01],\n",
    "            \"max_depth\":list(range(1,21,3)),\n",
    "            \"n_estimators\":[100,200,500]\n",
    "        }\n",
    "    },\n",
    "    \"GBM\":\n",
    "    {\n",
    "        \"model\": GradientBoostingRegressor(),\n",
    "        \"params\":\n",
    "        {\n",
    "            \"learning_rate\":[0.001, 0.01, 0.1, 0.2],\n",
    "            \"max_depth\":list(range(1,21,3)),\n",
    "            \"n_estimators\":[200, 500, 1000, 2000],\n",
    "            \"subsample\":[1, 0.5, 0.75]\n",
    "        }\n",
    "    }\n",
    "}\n",
    "model_params"
   ]
  },
  {
   "cell_type": "code",
   "execution_count": null,
   "id": "8c60d92a",
   "metadata": {},
   "outputs": [],
   "source": [
    "cv = RepeatedStratifiedKFold(n_splits = 5, n_repeats = 2)\n",
    "scores = []\n",
    "for model_name, params in model_params.items():\n",
    "    rs = RandomizedSearchCV(params[\"model\"], params[\"params\"], cv = cv, n_iter = 10)\n",
    "    rs.fit(X,y)\n",
    "    scores.append([model_name, dict(rs.best_params_),rs.best_score_])\n",
    "scores"
   ]
  },
  {
   "cell_type": "code",
   "execution_count": null,
   "id": "9cceec5e",
   "metadata": {},
   "outputs": [],
   "source": []
  },
  {
   "cell_type": "code",
   "execution_count": null,
   "id": "761ca13a",
   "metadata": {},
   "outputs": [],
   "source": []
  }
 ],
 "metadata": {
  "kernelspec": {
   "display_name": "Python 3 (ipykernel)",
   "language": "python",
   "name": "python3"
  },
  "language_info": {
   "codemirror_mode": {
    "name": "ipython",
    "version": 3
   },
   "file_extension": ".py",
   "mimetype": "text/x-python",
   "name": "python",
   "nbconvert_exporter": "python",
   "pygments_lexer": "ipython3",
   "version": "3.11.2"
  }
 },
 "nbformat": 4,
 "nbformat_minor": 5
}
